{
 "cells": [
  {
   "cell_type": "markdown",
   "id": "f0eaec75-0fb2-4748-bf30-52db7d4285d8",
   "metadata": {},
   "source": [
    "# Antens farm"
   ]
  },
  {
   "cell_type": "code",
   "execution_count": 31,
   "id": "5aec4236-ec99-4244-8f03-f07e39cf1c5b",
   "metadata": {},
   "outputs": [],
   "source": [
    "def load_group_data(file, name_blood, name_slh):\n",
    "    df_blood = pd.read_excel(file, sheet_name=name_blood)\n",
    "    df_slh = pd.read_excel(file, sheet_name=name_slh)\n",
    "    df_blood['cow_id'] = df_blood['Land'] + ' ' + df_blood['Levensnr'].astype(str)\n",
    "    return df_blood, df_slh"
   ]
  },
  {
   "cell_type": "code",
   "execution_count": 32,
   "id": "33e959ac-d995-4e19-95fe-b1d2fa37d24a",
   "metadata": {},
   "outputs": [],
   "source": [
    "def get_same_cows_ids(df_blood, df_slh):\n",
    "    cow_ids_blood = set(df_blood['cow_id'])\n",
    "    cow_ids_slh = set(df_slh['ID nummer'])\n",
    "    return  cow_ids_blood.intersection(cow_ids_slh)"
   ]
  },
  {
   "cell_type": "markdown",
   "id": "4433cae0-12c4-4769-9a28-90aefa5860ea",
   "metadata": {},
   "source": [
    "## Group 2348201"
   ]
  },
  {
   "cell_type": "code",
   "execution_count": 33,
   "id": "191271c4-d853-4541-9d03-f33c81811cf9",
   "metadata": {},
   "outputs": [],
   "source": [
    "import pandas as pd"
   ]
  },
  {
   "cell_type": "code",
   "execution_count": 34,
   "id": "c644530a-89a2-4d29-9fc7-a576134ac29a",
   "metadata": {},
   "outputs": [],
   "source": [
    "df_blood, df_slh = load_group_data(\n",
    "    'Structured data.xlsx', name_blood=0, name_slh=1\n",
    ")"
   ]
  },
  {
   "cell_type": "code",
   "execution_count": 35,
   "id": "4adb8abd-c7df-4cd1-9a4b-9d7504802867",
   "metadata": {},
   "outputs": [],
   "source": [
    "same_cows_2348201 = get_same_cows_ids(df_blood, df_slh)"
   ]
  },
  {
   "cell_type": "code",
   "execution_count": 36,
   "id": "765fb74f-415e-46d8-a91b-5de8298e5530",
   "metadata": {},
   "outputs": [
    {
     "data": {
      "text/plain": [
       "549"
      ]
     },
     "execution_count": 36,
     "metadata": {},
     "output_type": "execute_result"
    }
   ],
   "source": [
    "len(same_cows_2348201)"
   ]
  },
  {
   "cell_type": "markdown",
   "id": "54560847-be5f-452a-a3c7-e7bab4d79bd5",
   "metadata": {},
   "source": [
    "**There are 549 same cows in both datasets**"
   ]
  },
  {
   "cell_type": "markdown",
   "id": "240734f2-09a6-4932-9a30-041973092c39",
   "metadata": {},
   "source": [
    "## Group 2242208"
   ]
  },
  {
   "cell_type": "code",
   "execution_count": 42,
   "id": "a478ab4c-5ae1-4be8-a2f6-2f8e58df9cad",
   "metadata": {},
   "outputs": [],
   "source": [
    "df_blood_2242208, df_slh_2242208 = load_group_data(\n",
    "    'Structured data.xlsx',\n",
    "    name_blood='Group 2242208 - blood samples',\n",
    "    name_slh='Group 2242208 Slaughterhouse'\n",
    ")"
   ]
  },
  {
   "cell_type": "code",
   "execution_count": 45,
   "id": "e3709a7e-c45d-4e60-8f30-bd9ac74ef3d1",
   "metadata": {},
   "outputs": [],
   "source": [
    "same_cows_2242208 = get_same_cows_ids(df_blood_2242208, df_slh_2242208)"
   ]
  },
  {
   "cell_type": "code",
   "execution_count": 46,
   "id": "db283e6e-1832-4980-9552-8a8111cc69e2",
   "metadata": {},
   "outputs": [
    {
     "data": {
      "text/plain": [
       "491"
      ]
     },
     "execution_count": 46,
     "metadata": {},
     "output_type": "execute_result"
    }
   ],
   "source": [
    "len(same_cows_2242208)"
   ]
  },
  {
   "cell_type": "markdown",
   "id": "3bb43ad8-d4d1-408f-8d53-ffd41cd70f77",
   "metadata": {},
   "source": [
    "**There are 491 same cows in both datasets**"
   ]
  },
  {
   "cell_type": "markdown",
   "id": "3910bbb5-9f7f-4091-adb8-ced808a8c448",
   "metadata": {},
   "source": [
    "## Group 2211207 "
   ]
  },
  {
   "cell_type": "code",
   "execution_count": 48,
   "id": "783ef70d-af5f-4922-bc72-6e03fdac1939",
   "metadata": {},
   "outputs": [],
   "source": [
    "df_blood_2211207, df_slh_2211207 = load_group_data(\n",
    "    'Structured data.xlsx',\n",
    "    name_blood='Group 2211207 - blood samples',\n",
    "    name_slh='Group 2211207 Slaughterhouse',\n",
    ")"
   ]
  },
  {
   "cell_type": "code",
   "execution_count": 49,
   "id": "3b727110-f6bb-4331-bbf4-f290978ec629",
   "metadata": {},
   "outputs": [],
   "source": [
    "same_cows_2211207 = get_same_cows_ids(df_blood_2211207, df_slh_2211207)"
   ]
  },
  {
   "cell_type": "code",
   "execution_count": 50,
   "id": "3099599c-572b-4bbd-a829-9aad409068ae",
   "metadata": {},
   "outputs": [
    {
     "data": {
      "text/plain": [
       "91"
      ]
     },
     "execution_count": 50,
     "metadata": {},
     "output_type": "execute_result"
    }
   ],
   "source": [
    "len(same_cows_2211207)"
   ]
  },
  {
   "cell_type": "markdown",
   "id": "4c3607ec-5069-4da1-8fba-c85ab5ee4d4e",
   "metadata": {},
   "source": [
    "**There are 91 same cows in both datasets**"
   ]
  },
  {
   "cell_type": "markdown",
   "id": "5f7f8f29-1e52-4b84-b92e-5b5184751205",
   "metadata": {},
   "source": [
    "## Group 2133206"
   ]
  },
  {
   "cell_type": "code",
   "execution_count": 51,
   "id": "e768925a-dc37-4474-85ef-d9e68a5e7454",
   "metadata": {},
   "outputs": [],
   "source": [
    "df_blood_2133206, df_slh_2133206 = load_group_data(\n",
    "    'Structured data.xlsx',\n",
    "    name_blood='Group 2133206 - blood samples',\n",
    "    name_slh='Group 2133206 Slaughterhouse',\n",
    ")"
   ]
  },
  {
   "cell_type": "code",
   "execution_count": 52,
   "id": "4e8f89eb-d9bc-4631-ac49-3c697fed5867",
   "metadata": {},
   "outputs": [],
   "source": [
    "same_cows_2133206 = get_same_cows_ids(df_blood_2133206, df_slh_2133206) "
   ]
  },
  {
   "cell_type": "code",
   "execution_count": 53,
   "id": "3639e1fa-a3df-4594-b525-7931ea341c81",
   "metadata": {},
   "outputs": [
    {
     "data": {
      "text/plain": [
       "511"
      ]
     },
     "execution_count": 53,
     "metadata": {},
     "output_type": "execute_result"
    }
   ],
   "source": [
    "len(same_cows_2133206)"
   ]
  },
  {
   "cell_type": "markdown",
   "id": "4cc8c0e2-30a4-4778-ad5b-ac071005964a",
   "metadata": {},
   "source": [
    "**There are 511 same cows in both datasets**"
   ]
  },
  {
   "cell_type": "markdown",
   "id": "7acbcf1e-9783-4c5d-85e0-2d401261076c",
   "metadata": {},
   "source": [
    "# Stagri farm"
   ]
  },
  {
   "cell_type": "markdown",
   "id": "0b24eed0-ee27-44c6-9aa7-6fd7ce5ec515",
   "metadata": {},
   "source": [
    "## Group 2338338"
   ]
  },
  {
   "cell_type": "code",
   "execution_count": 55,
   "id": "f252d95d-7d95-4bd3-a379-c354595e3b3e",
   "metadata": {},
   "outputs": [],
   "source": [
    "df_blood_2338338, df_slh_2338338 = load_group_data(\n",
    "    'Stagri structured data.xlsx',\n",
    "    name_blood='Group 2338338 - blood samples',\n",
    "    name_slh='Group 2338338 Slaughterhouse',\n",
    ")"
   ]
  },
  {
   "cell_type": "code",
   "execution_count": 57,
   "id": "61a6b72a-e07b-4f4a-ba80-0d95f3a919d3",
   "metadata": {},
   "outputs": [],
   "source": [
    "same_cows_2338338 = get_same_cows_ids(df_blood_2338338, df_slh_2338338) "
   ]
  },
  {
   "cell_type": "code",
   "execution_count": 58,
   "id": "a8928b3b-1309-4fea-9a2d-557ba219016f",
   "metadata": {},
   "outputs": [
    {
     "data": {
      "text/plain": [
       "898"
      ]
     },
     "execution_count": 58,
     "metadata": {},
     "output_type": "execute_result"
    }
   ],
   "source": [
    "len(same_cows_2338338)"
   ]
  },
  {
   "cell_type": "markdown",
   "id": "5ec1b622-8903-4048-b2ed-0c83841085ef",
   "metadata": {},
   "source": [
    "## Group 2309337"
   ]
  },
  {
   "cell_type": "code",
   "execution_count": 60,
   "id": "e758ef91-1682-485c-99e5-d21935a768c9",
   "metadata": {},
   "outputs": [],
   "source": [
    "df_blood_2309337, df_slh_2309337 = load_group_data(\n",
    "    'Stagri structured data.xlsx',\n",
    "    name_blood='Group 2309337 - blood samples',\n",
    "    name_slh='Group 2309337 Slaughterhouse',\n",
    ")"
   ]
  },
  {
   "cell_type": "code",
   "execution_count": 61,
   "id": "55dfa335-9d0a-4827-a22d-9f2c80be34ba",
   "metadata": {},
   "outputs": [],
   "source": [
    "same_cows_2309337 = get_same_cows_ids(df_blood_2309337, df_slh_2309337) "
   ]
  },
  {
   "cell_type": "code",
   "execution_count": 63,
   "id": "b85fe27c-237e-4d93-8895-844db95fe6de",
   "metadata": {},
   "outputs": [
    {
     "data": {
      "text/plain": [
       "152"
      ]
     },
     "execution_count": 63,
     "metadata": {},
     "output_type": "execute_result"
    }
   ],
   "source": [
    "len(same_cows_2309337)"
   ]
  },
  {
   "cell_type": "markdown",
   "id": "aa6e82c5-d7bf-4521-a070-f656241db1d5",
   "metadata": {},
   "source": [
    "## Group 2232336"
   ]
  },
  {
   "cell_type": "code",
   "execution_count": 64,
   "id": "9b1911f9-3743-4e8b-a834-9f0b28f7e56e",
   "metadata": {},
   "outputs": [],
   "source": [
    "df_blood_2232336, df_slh_2232336 = load_group_data(\n",
    "    'Stagri structured data.xlsx',\n",
    "    name_blood='Group 2232336 - blood samples',\n",
    "    name_slh='Group 2232336 Slaughterhouse',\n",
    ")"
   ]
  },
  {
   "cell_type": "code",
   "execution_count": 65,
   "id": "9907ac6b-a578-408c-a2dc-a90c27d40464",
   "metadata": {},
   "outputs": [],
   "source": [
    "same_cows_2232336 = get_same_cows_ids(df_blood_2232336, df_slh_2232336) "
   ]
  },
  {
   "cell_type": "code",
   "execution_count": 66,
   "id": "c4271533-41d5-4783-86c7-19d090d3bf12",
   "metadata": {},
   "outputs": [
    {
     "data": {
      "text/plain": [
       "278"
      ]
     },
     "execution_count": 66,
     "metadata": {},
     "output_type": "execute_result"
    }
   ],
   "source": [
    "len(same_cows_2232336)"
   ]
  },
  {
   "cell_type": "markdown",
   "id": "71bf2402-5b50-4c35-af39-350b4cf0fc71",
   "metadata": {},
   "source": [
    "# Group 2128334"
   ]
  },
  {
   "cell_type": "code",
   "execution_count": 67,
   "id": "3af856ad-fae4-4fce-a662-d1574d653550",
   "metadata": {},
   "outputs": [],
   "source": [
    "df_blood_2128334, df_slh_2128334 = load_group_data(\n",
    "    'Stagri structured data.xlsx',\n",
    "    name_blood='Group 2128334 - blood samples',\n",
    "    name_slh='Group 2128334 Slaughterhouse',\n",
    ")"
   ]
  },
  {
   "cell_type": "code",
   "execution_count": 68,
   "id": "94369b8e-a6ac-4b4e-a025-f63e77cc776c",
   "metadata": {},
   "outputs": [],
   "source": [
    "same_cows_2128334 = get_same_cows_ids(df_blood_2128334, df_slh_2128334) "
   ]
  },
  {
   "cell_type": "code",
   "execution_count": 69,
   "id": "11cdb82a-6a83-41fe-acd0-9542653c4e60",
   "metadata": {},
   "outputs": [
    {
     "data": {
      "text/plain": [
       "354"
      ]
     },
     "execution_count": 69,
     "metadata": {},
     "output_type": "execute_result"
    }
   ],
   "source": [
    "len(same_cows_2128334)"
   ]
  },
  {
   "cell_type": "markdown",
   "id": "63548a09-5ffd-4957-9b81-b8f0a2bd29ab",
   "metadata": {},
   "source": [
    "## Individual treatments data"
   ]
  },
  {
   "cell_type": "code",
   "execution_count": 72,
   "id": "de34f93f-e70a-4ab4-a85b-1670a4108bb6",
   "metadata": {},
   "outputs": [],
   "source": [
    "treatments = pd.read_excel('Stagri structured data.xlsx', sheet_name='Individual treatments')"
   ]
  },
  {
   "cell_type": "code",
   "execution_count": 77,
   "id": "58904568-9a8e-47ee-8368-7af07d95547a",
   "metadata": {},
   "outputs": [
    {
     "data": {
      "text/plain": [
       "(1484, 15)"
      ]
     },
     "execution_count": 77,
     "metadata": {},
     "output_type": "execute_result"
    }
   ],
   "source": [
    "treatments.shape"
   ]
  },
  {
   "cell_type": "code",
   "execution_count": 79,
   "id": "22516472-8559-45c1-bee2-79ccef8bdbdc",
   "metadata": {},
   "outputs": [
    {
     "data": {
      "text/plain": [
       "(1484,)"
      ]
     },
     "execution_count": 79,
     "metadata": {},
     "output_type": "execute_result"
    }
   ],
   "source": [
    "treatments['Levensnummer'].unique().shape"
   ]
  },
  {
   "cell_type": "code",
   "execution_count": 75,
   "id": "83841bf3-df8a-4421-903e-bab53ee95a58",
   "metadata": {},
   "outputs": [],
   "source": [
    "cows_in_all_dfs = (same_cows_2338338 | same_cows_2309337 | same_cows_2232336 | same_cows_2128334).intersection(set(treatments['Levensnummer']))"
   ]
  },
  {
   "cell_type": "code",
   "execution_count": 76,
   "id": "059d2ffd-1f8c-4b03-88e1-1eea5d70e01c",
   "metadata": {},
   "outputs": [
    {
     "data": {
      "text/plain": [
       "898"
      ]
     },
     "execution_count": 76,
     "metadata": {},
     "output_type": "execute_result"
    }
   ],
   "source": [
    "len(cows_in_all_dfs)"
   ]
  },
  {
   "cell_type": "markdown",
   "id": "c252d80b-178e-46d0-a642-a5d19ad670e7",
   "metadata": {},
   "source": [
    "# Borne farm"
   ]
  },
  {
   "cell_type": "markdown",
   "id": "685bc317-6889-4903-bd3d-60679eb494dc",
   "metadata": {},
   "source": [
    "## Group 2308249"
   ]
  },
  {
   "cell_type": "code",
   "execution_count": 85,
   "id": "3df4e476-80d8-43af-a756-47894f5957ee",
   "metadata": {},
   "outputs": [],
   "source": [
    "df_blood_2308249, df_slh_2308249 = load_group_data(\n",
    "    'Borne structured data.xlsx',\n",
    "    name_blood='Group 2308249 - blood samples',\n",
    "    name_slh='Group 2308249 Slaughterhouse',\n",
    ")"
   ]
  },
  {
   "cell_type": "code",
   "execution_count": 86,
   "id": "f4cf42c9-5cdf-465b-b2b5-baee8b50cc33",
   "metadata": {},
   "outputs": [],
   "source": [
    "same_cows_2308249 = get_same_cows_ids(df_blood_2308249, df_slh_2308249) "
   ]
  },
  {
   "cell_type": "code",
   "execution_count": 87,
   "id": "63bc9e43-1dde-4e11-a9f8-fdf904afc034",
   "metadata": {},
   "outputs": [
    {
     "data": {
      "text/plain": [
       "546"
      ]
     },
     "execution_count": 87,
     "metadata": {},
     "output_type": "execute_result"
    }
   ],
   "source": [
    "len(same_cows_2308249)"
   ]
  },
  {
   "cell_type": "markdown",
   "id": "9c7459ff-db17-43e2-b5b0-eba11ac3670b",
   "metadata": {},
   "source": [
    "## Group 2229248"
   ]
  },
  {
   "cell_type": "code",
   "execution_count": 88,
   "id": "3f2d901f-d4fe-45fc-848c-1ba9b4dc9811",
   "metadata": {},
   "outputs": [],
   "source": [
    "df_blood_2229248, df_slh_2229248 = load_group_data(\n",
    "    'Borne structured data.xlsx',\n",
    "    name_blood='Group 2229248 - blood samples',\n",
    "    name_slh='Group 2229248 Slaughterhouse',\n",
    ")"
   ]
  },
  {
   "cell_type": "code",
   "execution_count": 89,
   "id": "ae118a90-1f2a-4abe-a0d7-b3bcdb26d49d",
   "metadata": {},
   "outputs": [],
   "source": [
    "same_cows_2229248 = get_same_cows_ids(df_blood_2229248, df_slh_2229248) "
   ]
  },
  {
   "cell_type": "code",
   "execution_count": 90,
   "id": "895d4b30-eac6-4a61-8f25-9432a36436cd",
   "metadata": {},
   "outputs": [
    {
     "data": {
      "text/plain": [
       "303"
      ]
     },
     "execution_count": 90,
     "metadata": {},
     "output_type": "execute_result"
    }
   ],
   "source": [
    "len(same_cows_2229248)"
   ]
  },
  {
   "cell_type": "markdown",
   "id": "b18a039c-e31a-438d-a995-46687a460d1c",
   "metadata": {},
   "source": [
    "## Group 2151247"
   ]
  },
  {
   "cell_type": "code",
   "execution_count": 91,
   "id": "c5b10a44-efea-4e2b-9b49-579fd32d0666",
   "metadata": {},
   "outputs": [
    {
     "data": {
      "text/plain": [
       "518"
      ]
     },
     "execution_count": 91,
     "metadata": {},
     "output_type": "execute_result"
    }
   ],
   "source": [
    "df_blood_2151247, df_slh_2151247 = load_group_data(\n",
    "    'Borne structured data.xlsx',\n",
    "    name_blood='Group 2151247 - blood samples',\n",
    "    name_slh='Group 2151247 Slaughterhouse',\n",
    ")\n",
    "same_cows_2151247 = get_same_cows_ids(df_blood_2151247, df_slh_2151247) \n",
    "len(same_cows_2151247)"
   ]
  },
  {
   "cell_type": "markdown",
   "id": "d682a88a-3856-4c69-a80b-c71a0aa9d15e",
   "metadata": {},
   "source": [
    "## Individual treatments"
   ]
  },
  {
   "cell_type": "code",
   "execution_count": 94,
   "id": "42d461a8-2d0d-4ca3-b81b-641d8f17769a",
   "metadata": {},
   "outputs": [],
   "source": [
    "borne_treatments = pd.read_excel('Borne structured data.xlsx', sheet_name='Individual treatments')"
   ]
  },
  {
   "cell_type": "code",
   "execution_count": 99,
   "id": "07b402cd-465d-4b44-87e1-5d8a44e0c8b3",
   "metadata": {},
   "outputs": [
    {
     "data": {
      "text/html": [
       "<div>\n",
       "<style scoped>\n",
       "    .dataframe tbody tr th:only-of-type {\n",
       "        vertical-align: middle;\n",
       "    }\n",
       "\n",
       "    .dataframe tbody tr th {\n",
       "        vertical-align: top;\n",
       "    }\n",
       "\n",
       "    .dataframe thead th {\n",
       "        text-align: right;\n",
       "    }\n",
       "</style>\n",
       "<table border=\"1\" class=\"dataframe\">\n",
       "  <thead>\n",
       "    <tr style=\"text-align: right;\">\n",
       "      <th></th>\n",
       "      <th>Volgnummer</th>\n",
       "      <th>Datum</th>\n",
       "      <th>Lev.nr</th>\n",
       "      <th>Werknr</th>\n",
       "      <th>Hoknr</th>\n",
       "      <th>Diagnose</th>\n",
       "      <th>Medicijn</th>\n",
       "      <th>Registratienr</th>\n",
       "      <th>Per dier</th>\n",
       "      <th>Dosering Per dier</th>\n",
       "      <th>Naam</th>\n",
       "      <th>Interval</th>\n",
       "      <th>Wachttijd</th>\n",
       "      <th>Wachttijd 2</th>\n",
       "      <th>Dgn</th>\n",
       "      <th>Opmerking</th>\n",
       "    </tr>\n",
       "  </thead>\n",
       "  <tbody>\n",
       "    <tr>\n",
       "      <th>0</th>\n",
       "      <td>2024-04-03</td>\n",
       "      <td>11/24/2221</td>\n",
       "      <td>DK 03442604712</td>\n",
       "      <td>4712</td>\n",
       "      <td>NaN</td>\n",
       "      <td>Longontsteking pompers</td>\n",
       "      <td>Genta-ject 10% inj.</td>\n",
       "      <td>REG NL 1637</td>\n",
       "      <td>7</td>\n",
       "      <td>ml</td>\n",
       "      <td>NaN</td>\n",
       "      <td>24</td>\n",
       "      <td>2222-12-04 00:00:00</td>\n",
       "      <td>NaN</td>\n",
       "      <td>NaN</td>\n",
       "      <td>NaN</td>\n",
       "    </tr>\n",
       "    <tr>\n",
       "      <th>1</th>\n",
       "      <td>2024-03-03</td>\n",
       "      <td>8/14/2024</td>\n",
       "      <td>IE 224075911726</td>\n",
       "      <td>11726</td>\n",
       "      <td>NaN</td>\n",
       "      <td>Longontsteking pompers</td>\n",
       "      <td>DEPOCILLINE</td>\n",
       "      <td>REG NL 4259</td>\n",
       "      <td>18</td>\n",
       "      <td>ml</td>\n",
       "      <td>NaN</td>\n",
       "      <td>24</td>\n",
       "      <td>8/21/2024</td>\n",
       "      <td>NaN</td>\n",
       "      <td>NaN</td>\n",
       "      <td>NaN</td>\n",
       "    </tr>\n",
       "    <tr>\n",
       "      <th>2</th>\n",
       "      <td>2024-01-01</td>\n",
       "      <td>8/14/2024</td>\n",
       "      <td>IE 215273412531</td>\n",
       "      <td>12531</td>\n",
       "      <td>NaN</td>\n",
       "      <td>kalf staat vol</td>\n",
       "      <td>Buscopan comp. inj.</td>\n",
       "      <td>REG NL 8944</td>\n",
       "      <td>9</td>\n",
       "      <td>ml</td>\n",
       "      <td>NaN</td>\n",
       "      <td>0</td>\n",
       "      <td>8/29/2024</td>\n",
       "      <td>NaN</td>\n",
       "      <td>NaN</td>\n",
       "      <td>NaN</td>\n",
       "    </tr>\n",
       "  </tbody>\n",
       "</table>\n",
       "</div>"
      ],
      "text/plain": [
       "  Volgnummer       Datum           Lev.nr  Werknr  Hoknr  \\\n",
       "0 2024-04-03  11/24/2221   DK 03442604712    4712    NaN   \n",
       "1 2024-03-03   8/14/2024  IE 224075911726   11726    NaN   \n",
       "2 2024-01-01   8/14/2024  IE 215273412531   12531    NaN   \n",
       "\n",
       "                 Diagnose             Medicijn Registratienr  Per dier  \\\n",
       "0  Longontsteking pompers  Genta-ject 10% inj.   REG NL 1637         7   \n",
       "1  Longontsteking pompers          DEPOCILLINE   REG NL 4259        18   \n",
       "2          kalf staat vol  Buscopan comp. inj.   REG NL 8944         9   \n",
       "\n",
       "  Dosering Per dier  Naam  Interval            Wachttijd  Wachttijd 2  Dgn  \\\n",
       "0                ml   NaN        24  2222-12-04 00:00:00          NaN  NaN   \n",
       "1                ml   NaN        24            8/21/2024          NaN  NaN   \n",
       "2                ml   NaN         0            8/29/2024          NaN  NaN   \n",
       "\n",
       "   Opmerking  \n",
       "0        NaN  \n",
       "1        NaN  \n",
       "2        NaN  "
      ]
     },
     "execution_count": 99,
     "metadata": {},
     "output_type": "execute_result"
    }
   ],
   "source": [
    "borne_treatments.head(3)"
   ]
  },
  {
   "cell_type": "code",
   "execution_count": 96,
   "id": "14798c56-8d88-4dbd-ba88-82528eacd7cb",
   "metadata": {},
   "outputs": [],
   "source": [
    "cows_in_all_borne = (same_cows_2308249 | same_cows_2229248 | same_cows_2151247).intersection(set(borne_treatments['Lev.nr']))"
   ]
  },
  {
   "cell_type": "code",
   "execution_count": 98,
   "id": "01e02b34-b98e-4a5c-919b-b95b734b817e",
   "metadata": {},
   "outputs": [
    {
     "data": {
      "text/plain": [
       "435"
      ]
     },
     "execution_count": 98,
     "metadata": {},
     "output_type": "execute_result"
    }
   ],
   "source": [
    "len(cows_in_all_borne)"
   ]
  },
  {
   "cell_type": "markdown",
   "id": "1802bee4-ff4d-41c4-8526-5eef06826850",
   "metadata": {},
   "source": [
    "## Get sick cows sample"
   ]
  },
  {
   "cell_type": "code",
   "execution_count": 101,
   "id": "8c9bf545-f2fc-4098-9c03-86995fc8451b",
   "metadata": {},
   "outputs": [
    {
     "name": "stdout",
     "output_type": "stream",
     "text": [
      "<class 'pandas.core.frame.DataFrame'>\n",
      "Index: 1307 entries, 1612 to 4978\n",
      "Data columns (total 16 columns):\n",
      " #   Column             Non-Null Count  Dtype         \n",
      "---  ------             --------------  -----         \n",
      " 0   Volgnummer         1307 non-null   datetime64[ns]\n",
      " 1   Datum              1307 non-null   object        \n",
      " 2   Lev.nr             1307 non-null   object        \n",
      " 3   Werknr             1307 non-null   int64         \n",
      " 4   Hoknr              0 non-null      float64       \n",
      " 5   Diagnose           1307 non-null   object        \n",
      " 6   Medicijn           1307 non-null   object        \n",
      " 7   Registratienr      1307 non-null   object        \n",
      " 8   Per dier           1307 non-null   int64         \n",
      " 9   Dosering Per dier  1307 non-null   object        \n",
      " 10  Naam               0 non-null      float64       \n",
      " 11  Interval           1307 non-null   int64         \n",
      " 12  Wachttijd          1307 non-null   object        \n",
      " 13  Wachttijd 2        0 non-null      float64       \n",
      " 14  Dgn                0 non-null      float64       \n",
      " 15  Opmerking          0 non-null      float64       \n",
      "dtypes: datetime64[ns](1), float64(5), int64(3), object(7)\n",
      "memory usage: 173.6+ KB\n"
     ]
    }
   ],
   "source": [
    "sick_cows_df = borne_treatments[borne_treatments['Lev.nr'].isin(cows_in_all_borne)]\n",
    "sick_cows_df.info()"
   ]
  },
  {
   "cell_type": "code",
   "execution_count": 103,
   "id": "69142e0d-230a-4262-9737-97e890f48b0d",
   "metadata": {},
   "outputs": [
    {
     "name": "stderr",
     "output_type": "stream",
     "text": [
      "C:\\Users\\cumpl\\AppData\\Local\\Temp\\ipykernel_13476\\3366543722.py:1: SettingWithCopyWarning: \n",
      "A value is trying to be set on a copy of a slice from a DataFrame.\n",
      "Try using .loc[row_indexer,col_indexer] = value instead\n",
      "\n",
      "See the caveats in the documentation: https://pandas.pydata.org/pandas-docs/stable/user_guide/indexing.html#returning-a-view-versus-a-copy\n",
      "  sick_cows_df['Datum'] = pd.to_datetime(sick_cows_df['Datum'])\n"
     ]
    }
   ],
   "source": [
    "sick_cows_df['Datum'] = pd.to_datetime(sick_cows_df['Datum'])"
   ]
  },
  {
   "cell_type": "code",
   "execution_count": 107,
   "id": "ece7a3b1-5275-4f8c-ae55-5b3f84f14ac6",
   "metadata": {},
   "outputs": [],
   "source": [
    "sick_cows_df = sick_cows_df.sort_values(by='Datum')\n",
    "# for now, only keep one record for each sick cow\n",
    "sick_cows_df = sick_cows_df.drop_duplicates(subset=['Lev.nr'], keep='last')"
   ]
  },
  {
   "cell_type": "code",
   "execution_count": 108,
   "id": "71a2c6f4-02d3-49b2-9111-a1242d0f4601",
   "metadata": {},
   "outputs": [
    {
     "data": {
      "text/html": [
       "<div>\n",
       "<style scoped>\n",
       "    .dataframe tbody tr th:only-of-type {\n",
       "        vertical-align: middle;\n",
       "    }\n",
       "\n",
       "    .dataframe tbody tr th {\n",
       "        vertical-align: top;\n",
       "    }\n",
       "\n",
       "    .dataframe thead th {\n",
       "        text-align: right;\n",
       "    }\n",
       "</style>\n",
       "<table border=\"1\" class=\"dataframe\">\n",
       "  <thead>\n",
       "    <tr style=\"text-align: right;\">\n",
       "      <th></th>\n",
       "      <th>Volgnummer</th>\n",
       "      <th>Datum</th>\n",
       "      <th>Lev.nr</th>\n",
       "      <th>Werknr</th>\n",
       "      <th>Hoknr</th>\n",
       "      <th>Diagnose</th>\n",
       "      <th>Medicijn</th>\n",
       "      <th>Registratienr</th>\n",
       "      <th>Per dier</th>\n",
       "      <th>Dosering Per dier</th>\n",
       "      <th>Naam</th>\n",
       "      <th>Interval</th>\n",
       "      <th>Wachttijd</th>\n",
       "      <th>Wachttijd 2</th>\n",
       "      <th>Dgn</th>\n",
       "      <th>Opmerking</th>\n",
       "    </tr>\n",
       "  </thead>\n",
       "  <tbody>\n",
       "    <tr>\n",
       "      <th>4950</th>\n",
       "      <td>2024-03-03</td>\n",
       "      <td>2021-12-18</td>\n",
       "      <td>DE 1406617767</td>\n",
       "      <td>17767</td>\n",
       "      <td>NaN</td>\n",
       "      <td>Navelontsteking</td>\n",
       "      <td>DEPOCILLINE</td>\n",
       "      <td>REG NL 4259</td>\n",
       "      <td>4</td>\n",
       "      <td>ml</td>\n",
       "      <td>NaN</td>\n",
       "      <td>24</td>\n",
       "      <td>#########</td>\n",
       "      <td>NaN</td>\n",
       "      <td>NaN</td>\n",
       "      <td>NaN</td>\n",
       "    </tr>\n",
       "    <tr>\n",
       "      <th>4943</th>\n",
       "      <td>2024-03-03</td>\n",
       "      <td>2021-12-19</td>\n",
       "      <td>DE 1406576892</td>\n",
       "      <td>76892</td>\n",
       "      <td>NaN</td>\n",
       "      <td>Longontsteking pompers</td>\n",
       "      <td>DEPOCILLINE</td>\n",
       "      <td>REG NL 4259</td>\n",
       "      <td>4</td>\n",
       "      <td>ml</td>\n",
       "      <td>NaN</td>\n",
       "      <td>24</td>\n",
       "      <td>#########</td>\n",
       "      <td>NaN</td>\n",
       "      <td>NaN</td>\n",
       "      <td>NaN</td>\n",
       "    </tr>\n",
       "    <tr>\n",
       "      <th>4931</th>\n",
       "      <td>2024-04-04</td>\n",
       "      <td>2021-12-20</td>\n",
       "      <td>DE 1604501679</td>\n",
       "      <td>1679</td>\n",
       "      <td>NaN</td>\n",
       "      <td>Longontsteking pompers</td>\n",
       "      <td>Genta-ject 10% inj.</td>\n",
       "      <td>REG NL 1637</td>\n",
       "      <td>4</td>\n",
       "      <td>ml</td>\n",
       "      <td>NaN</td>\n",
       "      <td>24</td>\n",
       "      <td>2022-08-05 00:00:00</td>\n",
       "      <td>NaN</td>\n",
       "      <td>NaN</td>\n",
       "      <td>NaN</td>\n",
       "    </tr>\n",
       "    <tr>\n",
       "      <th>4885</th>\n",
       "      <td>2024-04-04</td>\n",
       "      <td>2021-12-23</td>\n",
       "      <td>NL 572288820</td>\n",
       "      <td>8882</td>\n",
       "      <td>NaN</td>\n",
       "      <td>Longontsteking pompers</td>\n",
       "      <td>Genta-ject 10% inj.</td>\n",
       "      <td>REG NL 1637</td>\n",
       "      <td>4</td>\n",
       "      <td>ml</td>\n",
       "      <td>NaN</td>\n",
       "      <td>24</td>\n",
       "      <td>2022-11-05 00:00:00</td>\n",
       "      <td>NaN</td>\n",
       "      <td>NaN</td>\n",
       "      <td>NaN</td>\n",
       "    </tr>\n",
       "    <tr>\n",
       "      <th>4868</th>\n",
       "      <td>2024-04-04</td>\n",
       "      <td>2021-12-24</td>\n",
       "      <td>DE 1406527581</td>\n",
       "      <td>27581</td>\n",
       "      <td>NaN</td>\n",
       "      <td>Longontsteking pompers</td>\n",
       "      <td>Genta-ject 10% inj.</td>\n",
       "      <td>REG NL 1637</td>\n",
       "      <td>5</td>\n",
       "      <td>ml</td>\n",
       "      <td>NaN</td>\n",
       "      <td>24</td>\n",
       "      <td>2022-12-05 00:00:00</td>\n",
       "      <td>NaN</td>\n",
       "      <td>NaN</td>\n",
       "      <td>NaN</td>\n",
       "    </tr>\n",
       "    <tr>\n",
       "      <th>...</th>\n",
       "      <td>...</td>\n",
       "      <td>...</td>\n",
       "      <td>...</td>\n",
       "      <td>...</td>\n",
       "      <td>...</td>\n",
       "      <td>...</td>\n",
       "      <td>...</td>\n",
       "      <td>...</td>\n",
       "      <td>...</td>\n",
       "      <td>...</td>\n",
       "      <td>...</td>\n",
       "      <td>...</td>\n",
       "      <td>...</td>\n",
       "      <td>...</td>\n",
       "      <td>...</td>\n",
       "      <td>...</td>\n",
       "    </tr>\n",
       "    <tr>\n",
       "      <th>2012</th>\n",
       "      <td>2024-01-01</td>\n",
       "      <td>2023-12-03</td>\n",
       "      <td>IE 216299763534</td>\n",
       "      <td>63534</td>\n",
       "      <td>NaN</td>\n",
       "      <td>Longontsteking pompers</td>\n",
       "      <td>Resflor</td>\n",
       "      <td>REG NL 10539</td>\n",
       "      <td>6</td>\n",
       "      <td>ml</td>\n",
       "      <td>NaN</td>\n",
       "      <td>0</td>\n",
       "      <td>4/27/2023</td>\n",
       "      <td>NaN</td>\n",
       "      <td>NaN</td>\n",
       "      <td>NaN</td>\n",
       "    </tr>\n",
       "    <tr>\n",
       "      <th>2013</th>\n",
       "      <td>2024-01-01</td>\n",
       "      <td>2023-12-03</td>\n",
       "      <td>IE 215791863069</td>\n",
       "      <td>63069</td>\n",
       "      <td>NaN</td>\n",
       "      <td>Longontsteking pompers</td>\n",
       "      <td>Resflor</td>\n",
       "      <td>REG NL 10539</td>\n",
       "      <td>6</td>\n",
       "      <td>ml</td>\n",
       "      <td>NaN</td>\n",
       "      <td>0</td>\n",
       "      <td>4/27/2023</td>\n",
       "      <td>NaN</td>\n",
       "      <td>NaN</td>\n",
       "      <td>NaN</td>\n",
       "    </tr>\n",
       "    <tr>\n",
       "      <th>2015</th>\n",
       "      <td>2024-03-03</td>\n",
       "      <td>2023-12-03</td>\n",
       "      <td>IE 215009683161</td>\n",
       "      <td>83161</td>\n",
       "      <td>NaN</td>\n",
       "      <td>Longontsteking pompers</td>\n",
       "      <td>Amoxicilline 100</td>\n",
       "      <td>REG NL 2275</td>\n",
       "      <td>5</td>\n",
       "      <td>ml</td>\n",
       "      <td>NaN</td>\n",
       "      <td>24</td>\n",
       "      <td>2023-09-04 00:00:00</td>\n",
       "      <td>NaN</td>\n",
       "      <td>NaN</td>\n",
       "      <td>NaN</td>\n",
       "    </tr>\n",
       "    <tr>\n",
       "      <th>2017</th>\n",
       "      <td>2024-01-01</td>\n",
       "      <td>2023-12-03</td>\n",
       "      <td>IE 224514096375</td>\n",
       "      <td>96375</td>\n",
       "      <td>NaN</td>\n",
       "      <td>Longontsteking pompers</td>\n",
       "      <td>Resflor</td>\n",
       "      <td>REG NL 10539</td>\n",
       "      <td>6</td>\n",
       "      <td>ml</td>\n",
       "      <td>NaN</td>\n",
       "      <td>0</td>\n",
       "      <td>4/27/2023</td>\n",
       "      <td>NaN</td>\n",
       "      <td>NaN</td>\n",
       "      <td>NaN</td>\n",
       "    </tr>\n",
       "    <tr>\n",
       "      <th>1645</th>\n",
       "      <td>2024-01-01</td>\n",
       "      <td>2023-12-05</td>\n",
       "      <td>IE 214882771709</td>\n",
       "      <td>71709</td>\n",
       "      <td>NaN</td>\n",
       "      <td>Longontsteking pompers</td>\n",
       "      <td>Resflor</td>\n",
       "      <td>REG NL 10539</td>\n",
       "      <td>13</td>\n",
       "      <td>ml</td>\n",
       "      <td>NaN</td>\n",
       "      <td>0</td>\n",
       "      <td>6/27/2023</td>\n",
       "      <td>NaN</td>\n",
       "      <td>NaN</td>\n",
       "      <td>NaN</td>\n",
       "    </tr>\n",
       "  </tbody>\n",
       "</table>\n",
       "<p>435 rows × 16 columns</p>\n",
       "</div>"
      ],
      "text/plain": [
       "     Volgnummer      Datum           Lev.nr  Werknr  Hoknr  \\\n",
       "4950 2024-03-03 2021-12-18    DE 1406617767   17767    NaN   \n",
       "4943 2024-03-03 2021-12-19    DE 1406576892   76892    NaN   \n",
       "4931 2024-04-04 2021-12-20    DE 1604501679    1679    NaN   \n",
       "4885 2024-04-04 2021-12-23     NL 572288820    8882    NaN   \n",
       "4868 2024-04-04 2021-12-24    DE 1406527581   27581    NaN   \n",
       "...         ...        ...              ...     ...    ...   \n",
       "2012 2024-01-01 2023-12-03  IE 216299763534   63534    NaN   \n",
       "2013 2024-01-01 2023-12-03  IE 215791863069   63069    NaN   \n",
       "2015 2024-03-03 2023-12-03  IE 215009683161   83161    NaN   \n",
       "2017 2024-01-01 2023-12-03  IE 224514096375   96375    NaN   \n",
       "1645 2024-01-01 2023-12-05  IE 214882771709   71709    NaN   \n",
       "\n",
       "                    Diagnose             Medicijn Registratienr  Per dier  \\\n",
       "4950         Navelontsteking          DEPOCILLINE   REG NL 4259         4   \n",
       "4943  Longontsteking pompers          DEPOCILLINE   REG NL 4259         4   \n",
       "4931  Longontsteking pompers  Genta-ject 10% inj.   REG NL 1637         4   \n",
       "4885  Longontsteking pompers  Genta-ject 10% inj.   REG NL 1637         4   \n",
       "4868  Longontsteking pompers  Genta-ject 10% inj.   REG NL 1637         5   \n",
       "...                      ...                  ...           ...       ...   \n",
       "2012  Longontsteking pompers              Resflor  REG NL 10539         6   \n",
       "2013  Longontsteking pompers              Resflor  REG NL 10539         6   \n",
       "2015  Longontsteking pompers     Amoxicilline 100   REG NL 2275         5   \n",
       "2017  Longontsteking pompers              Resflor  REG NL 10539         6   \n",
       "1645  Longontsteking pompers              Resflor  REG NL 10539        13   \n",
       "\n",
       "     Dosering Per dier  Naam  Interval            Wachttijd  Wachttijd 2  Dgn  \\\n",
       "4950                ml   NaN        24            #########          NaN  NaN   \n",
       "4943                ml   NaN        24            #########          NaN  NaN   \n",
       "4931                ml   NaN        24  2022-08-05 00:00:00          NaN  NaN   \n",
       "4885                ml   NaN        24  2022-11-05 00:00:00          NaN  NaN   \n",
       "4868                ml   NaN        24  2022-12-05 00:00:00          NaN  NaN   \n",
       "...                ...   ...       ...                  ...          ...  ...   \n",
       "2012                ml   NaN         0            4/27/2023          NaN  NaN   \n",
       "2013                ml   NaN         0            4/27/2023          NaN  NaN   \n",
       "2015                ml   NaN        24  2023-09-04 00:00:00          NaN  NaN   \n",
       "2017                ml   NaN         0            4/27/2023          NaN  NaN   \n",
       "1645                ml   NaN         0            6/27/2023          NaN  NaN   \n",
       "\n",
       "      Opmerking  \n",
       "4950        NaN  \n",
       "4943        NaN  \n",
       "4931        NaN  \n",
       "4885        NaN  \n",
       "4868        NaN  \n",
       "...         ...  \n",
       "2012        NaN  \n",
       "2013        NaN  \n",
       "2015        NaN  \n",
       "2017        NaN  \n",
       "1645        NaN  \n",
       "\n",
       "[435 rows x 16 columns]"
      ]
     },
     "execution_count": 108,
     "metadata": {},
     "output_type": "execute_result"
    }
   ],
   "source": [
    "sick_cows_df"
   ]
  },
  {
   "cell_type": "markdown",
   "id": "5ec51a51-1c4e-4ac3-963c-0d50c9f3bc4a",
   "metadata": {},
   "source": [
    "# Get non-sick cows sample"
   ]
  },
  {
   "cell_type": "code",
   "execution_count": 112,
   "id": "92c2f5a8-61e7-4167-90d6-3634455599f4",
   "metadata": {},
   "outputs": [],
   "source": [
    "non_sick_cows_ids = (same_cows_2308249 | same_cows_2229248 | same_cows_2151247) - set(sick_cows_df['Lev.nr'])"
   ]
  },
  {
   "cell_type": "code",
   "execution_count": 113,
   "id": "559e8749-c152-4da0-9594-eaf88c1d0951",
   "metadata": {},
   "outputs": [
    {
     "data": {
      "text/plain": [
       "932"
      ]
     },
     "execution_count": 113,
     "metadata": {},
     "output_type": "execute_result"
    }
   ],
   "source": [
    "len(non_sick_cows_ids)"
   ]
  },
  {
   "cell_type": "markdown",
   "id": "41e7e33b-eefa-4bbf-8a66-496c42b192e5",
   "metadata": {},
   "source": [
    "## Merge datasets"
   ]
  },
  {
   "cell_type": "code",
   "execution_count": 136,
   "id": "bd366470-0296-4cc0-b017-391c6392e3a0",
   "metadata": {},
   "outputs": [
    {
     "data": {
      "text/html": [
       "<div>\n",
       "<style scoped>\n",
       "    .dataframe tbody tr th:only-of-type {\n",
       "        vertical-align: middle;\n",
       "    }\n",
       "\n",
       "    .dataframe tbody tr th {\n",
       "        vertical-align: top;\n",
       "    }\n",
       "\n",
       "    .dataframe thead th {\n",
       "        text-align: right;\n",
       "    }\n",
       "</style>\n",
       "<table border=\"1\" class=\"dataframe\">\n",
       "  <thead>\n",
       "    <tr style=\"text-align: right;\">\n",
       "      <th></th>\n",
       "      <th>Land</th>\n",
       "      <th>Levensnr</th>\n",
       "      <th>HB1</th>\n",
       "      <th>HB2</th>\n",
       "      <th>HB3</th>\n",
       "      <th>HB4</th>\n",
       "      <th>S2</th>\n",
       "      <th>S3</th>\n",
       "      <th>S4</th>\n",
       "      <th>WerkNr</th>\n",
       "      <th>#</th>\n",
       "      <th>Gewicht</th>\n",
       "      <th>Soort</th>\n",
       "      <th>Kleur</th>\n",
       "      <th>Vet</th>\n",
       "      <th>Geboortedatum</th>\n",
       "      <th>Leeftijdscode</th>\n",
       "      <th>Sekse</th>\n",
       "      <th>Slacht Datum</th>\n",
       "    </tr>\n",
       "    <tr>\n",
       "      <th>ID nummer</th>\n",
       "      <th></th>\n",
       "      <th></th>\n",
       "      <th></th>\n",
       "      <th></th>\n",
       "      <th></th>\n",
       "      <th></th>\n",
       "      <th></th>\n",
       "      <th></th>\n",
       "      <th></th>\n",
       "      <th></th>\n",
       "      <th></th>\n",
       "      <th></th>\n",
       "      <th></th>\n",
       "      <th></th>\n",
       "      <th></th>\n",
       "      <th></th>\n",
       "      <th></th>\n",
       "      <th></th>\n",
       "      <th></th>\n",
       "    </tr>\n",
       "  </thead>\n",
       "  <tbody>\n",
       "    <tr>\n",
       "      <th>IE 222680862571</th>\n",
       "      <td>IE</td>\n",
       "      <td>222680862571</td>\n",
       "      <td>6.4</td>\n",
       "      <td>6.2</td>\n",
       "      <td>NaN</td>\n",
       "      <td>NaN</td>\n",
       "      <td>0.0</td>\n",
       "      <td>NaN</td>\n",
       "      <td>NaN</td>\n",
       "      <td>62571</td>\n",
       "      <td>1308</td>\n",
       "      <td>112.0</td>\n",
       "      <td>13</td>\n",
       "      <td>6</td>\n",
       "      <td>2</td>\n",
       "      <td>2023-01-02 00:00:00</td>\n",
       "      <td>V</td>\n",
       "      <td>STIER</td>\n",
       "      <td>8/23/2023</td>\n",
       "    </tr>\n",
       "    <tr>\n",
       "      <th>IE 214158682440</th>\n",
       "      <td>IE</td>\n",
       "      <td>214158682440</td>\n",
       "      <td>5.7</td>\n",
       "      <td>5.1</td>\n",
       "      <td>NaN</td>\n",
       "      <td>NaN</td>\n",
       "      <td>0.0</td>\n",
       "      <td>NaN</td>\n",
       "      <td>NaN</td>\n",
       "      <td>82440</td>\n",
       "      <td>1184</td>\n",
       "      <td>128.9</td>\n",
       "      <td>11</td>\n",
       "      <td>6</td>\n",
       "      <td>2</td>\n",
       "      <td>2023-07-02 00:00:00</td>\n",
       "      <td>V</td>\n",
       "      <td>STIER</td>\n",
       "      <td>8/23/2023</td>\n",
       "    </tr>\n",
       "    <tr>\n",
       "      <th>IE 223849832428</th>\n",
       "      <td>IE</td>\n",
       "      <td>223849832428</td>\n",
       "      <td>6.7</td>\n",
       "      <td>5.6</td>\n",
       "      <td>NaN</td>\n",
       "      <td>NaN</td>\n",
       "      <td>0.0</td>\n",
       "      <td>NaN</td>\n",
       "      <td>NaN</td>\n",
       "      <td>32428</td>\n",
       "      <td>1226</td>\n",
       "      <td>108.2</td>\n",
       "      <td>12</td>\n",
       "      <td>7</td>\n",
       "      <td>2</td>\n",
       "      <td>2023-07-02 00:00:00</td>\n",
       "      <td>V</td>\n",
       "      <td>STIER</td>\n",
       "      <td>8/22/2023</td>\n",
       "    </tr>\n",
       "    <tr>\n",
       "      <th>IE 217152272253</th>\n",
       "      <td>IE</td>\n",
       "      <td>217152272253</td>\n",
       "      <td>5.2</td>\n",
       "      <td>5.2</td>\n",
       "      <td>NaN</td>\n",
       "      <td>NaN</td>\n",
       "      <td>0.0</td>\n",
       "      <td>NaN</td>\n",
       "      <td>NaN</td>\n",
       "      <td>72253</td>\n",
       "      <td>1209</td>\n",
       "      <td>129.0</td>\n",
       "      <td>11</td>\n",
       "      <td>1</td>\n",
       "      <td>2</td>\n",
       "      <td>2023-07-02 00:00:00</td>\n",
       "      <td>V</td>\n",
       "      <td>STIER</td>\n",
       "      <td>8/22/2023</td>\n",
       "    </tr>\n",
       "    <tr>\n",
       "      <th>IE 219154364201</th>\n",
       "      <td>IE</td>\n",
       "      <td>219154364201</td>\n",
       "      <td>6.2</td>\n",
       "      <td>6.4</td>\n",
       "      <td>NaN</td>\n",
       "      <td>NaN</td>\n",
       "      <td>0.0</td>\n",
       "      <td>NaN</td>\n",
       "      <td>NaN</td>\n",
       "      <td>64201</td>\n",
       "      <td>1239</td>\n",
       "      <td>90.9</td>\n",
       "      <td>14</td>\n",
       "      <td>6</td>\n",
       "      <td>1</td>\n",
       "      <td>2023-05-02 00:00:00</td>\n",
       "      <td>V</td>\n",
       "      <td>STIER</td>\n",
       "      <td>8/23/2023</td>\n",
       "    </tr>\n",
       "    <tr>\n",
       "      <th>...</th>\n",
       "      <td>...</td>\n",
       "      <td>...</td>\n",
       "      <td>...</td>\n",
       "      <td>...</td>\n",
       "      <td>...</td>\n",
       "      <td>...</td>\n",
       "      <td>...</td>\n",
       "      <td>...</td>\n",
       "      <td>...</td>\n",
       "      <td>...</td>\n",
       "      <td>...</td>\n",
       "      <td>...</td>\n",
       "      <td>...</td>\n",
       "      <td>...</td>\n",
       "      <td>...</td>\n",
       "      <td>...</td>\n",
       "      <td>...</td>\n",
       "      <td>...</td>\n",
       "      <td>...</td>\n",
       "    </tr>\n",
       "    <tr>\n",
       "      <th>IE 224540571812</th>\n",
       "      <td>IE</td>\n",
       "      <td>224540571812</td>\n",
       "      <td>5.3</td>\n",
       "      <td>5.3</td>\n",
       "      <td>NaN</td>\n",
       "      <td>NaN</td>\n",
       "      <td>0.0</td>\n",
       "      <td>NaN</td>\n",
       "      <td>NaN</td>\n",
       "      <td>71812</td>\n",
       "      <td>892</td>\n",
       "      <td>158.6</td>\n",
       "      <td>11</td>\n",
       "      <td>6</td>\n",
       "      <td>3</td>\n",
       "      <td>1/28/2023</td>\n",
       "      <td>V</td>\n",
       "      <td>STIER</td>\n",
       "      <td>8/22/2023</td>\n",
       "    </tr>\n",
       "    <tr>\n",
       "      <th>IE 219404731629</th>\n",
       "      <td>IE</td>\n",
       "      <td>219404731629</td>\n",
       "      <td>6.4</td>\n",
       "      <td>6.1</td>\n",
       "      <td>NaN</td>\n",
       "      <td>NaN</td>\n",
       "      <td>0.0</td>\n",
       "      <td>NaN</td>\n",
       "      <td>NaN</td>\n",
       "      <td>31629</td>\n",
       "      <td>1314</td>\n",
       "      <td>175.7</td>\n",
       "      <td>9</td>\n",
       "      <td>3</td>\n",
       "      <td>2</td>\n",
       "      <td>1/26/2023</td>\n",
       "      <td>V</td>\n",
       "      <td>STIER</td>\n",
       "      <td>8/22/2023</td>\n",
       "    </tr>\n",
       "    <tr>\n",
       "      <th>IE 213733463464</th>\n",
       "      <td>IE</td>\n",
       "      <td>213733463464</td>\n",
       "      <td>5.2</td>\n",
       "      <td>6.8</td>\n",
       "      <td>NaN</td>\n",
       "      <td>NaN</td>\n",
       "      <td>0.0</td>\n",
       "      <td>NaN</td>\n",
       "      <td>NaN</td>\n",
       "      <td>63464</td>\n",
       "      <td>881</td>\n",
       "      <td>135.8</td>\n",
       "      <td>11</td>\n",
       "      <td>5</td>\n",
       "      <td>2</td>\n",
       "      <td>1/17/2023</td>\n",
       "      <td>V</td>\n",
       "      <td>STIER</td>\n",
       "      <td>8/22/2023</td>\n",
       "    </tr>\n",
       "    <tr>\n",
       "      <th>IE 213623280443</th>\n",
       "      <td>IE</td>\n",
       "      <td>213623280443</td>\n",
       "      <td>5.0</td>\n",
       "      <td>5.6</td>\n",
       "      <td>NaN</td>\n",
       "      <td>NaN</td>\n",
       "      <td>0.0</td>\n",
       "      <td>NaN</td>\n",
       "      <td>NaN</td>\n",
       "      <td>80443</td>\n",
       "      <td>865</td>\n",
       "      <td>106.1</td>\n",
       "      <td>14</td>\n",
       "      <td>5</td>\n",
       "      <td>1</td>\n",
       "      <td>1/27/2023</td>\n",
       "      <td>V</td>\n",
       "      <td>STIER</td>\n",
       "      <td>8/22/2023</td>\n",
       "    </tr>\n",
       "    <tr>\n",
       "      <th>IE 217393193773</th>\n",
       "      <td>IE</td>\n",
       "      <td>217393193773</td>\n",
       "      <td>4.7</td>\n",
       "      <td>5.1</td>\n",
       "      <td>NaN</td>\n",
       "      <td>NaN</td>\n",
       "      <td>0.0</td>\n",
       "      <td>NaN</td>\n",
       "      <td>NaN</td>\n",
       "      <td>93773</td>\n",
       "      <td>1233</td>\n",
       "      <td>118.1</td>\n",
       "      <td>13</td>\n",
       "      <td>7</td>\n",
       "      <td>2</td>\n",
       "      <td>1/27/2023</td>\n",
       "      <td>V</td>\n",
       "      <td>STIER</td>\n",
       "      <td>8/22/2023</td>\n",
       "    </tr>\n",
       "  </tbody>\n",
       "</table>\n",
       "<p>546 rows × 19 columns</p>\n",
       "</div>"
      ],
      "text/plain": [
       "                Land      Levensnr  HB1  HB2  HB3  HB4   S2  S3  S4  WerkNr  \\\n",
       "ID nummer                                                                     \n",
       "IE 222680862571   IE  222680862571  6.4  6.2  NaN  NaN  0.0 NaN NaN   62571   \n",
       "IE 214158682440   IE  214158682440  5.7  5.1  NaN  NaN  0.0 NaN NaN   82440   \n",
       "IE 223849832428   IE  223849832428  6.7  5.6  NaN  NaN  0.0 NaN NaN   32428   \n",
       "IE 217152272253   IE  217152272253  5.2  5.2  NaN  NaN  0.0 NaN NaN   72253   \n",
       "IE 219154364201   IE  219154364201  6.2  6.4  NaN  NaN  0.0 NaN NaN   64201   \n",
       "...              ...           ...  ...  ...  ...  ...  ...  ..  ..     ...   \n",
       "IE 224540571812   IE  224540571812  5.3  5.3  NaN  NaN  0.0 NaN NaN   71812   \n",
       "IE 219404731629   IE  219404731629  6.4  6.1  NaN  NaN  0.0 NaN NaN   31629   \n",
       "IE 213733463464   IE  213733463464  5.2  6.8  NaN  NaN  0.0 NaN NaN   63464   \n",
       "IE 213623280443   IE  213623280443  5.0  5.6  NaN  NaN  0.0 NaN NaN   80443   \n",
       "IE 217393193773   IE  217393193773  4.7  5.1  NaN  NaN  0.0 NaN NaN   93773   \n",
       "\n",
       "                    #  Gewicht  Soort  Kleur  Vet        Geboortedatum  \\\n",
       "ID nummer                                                                \n",
       "IE 222680862571  1308    112.0     13      6    2  2023-01-02 00:00:00   \n",
       "IE 214158682440  1184    128.9     11      6    2  2023-07-02 00:00:00   \n",
       "IE 223849832428  1226    108.2     12      7    2  2023-07-02 00:00:00   \n",
       "IE 217152272253  1209    129.0     11      1    2  2023-07-02 00:00:00   \n",
       "IE 219154364201  1239     90.9     14      6    1  2023-05-02 00:00:00   \n",
       "...               ...      ...    ...    ...  ...                  ...   \n",
       "IE 224540571812   892    158.6     11      6    3            1/28/2023   \n",
       "IE 219404731629  1314    175.7      9      3    2            1/26/2023   \n",
       "IE 213733463464   881    135.8     11      5    2            1/17/2023   \n",
       "IE 213623280443   865    106.1     14      5    1            1/27/2023   \n",
       "IE 217393193773  1233    118.1     13      7    2            1/27/2023   \n",
       "\n",
       "                Leeftijdscode   Sekse Slacht Datum  \n",
       "ID nummer                                           \n",
       "IE 222680862571             V  STIER     8/23/2023  \n",
       "IE 214158682440             V  STIER     8/23/2023  \n",
       "IE 223849832428             V  STIER     8/22/2023  \n",
       "IE 217152272253             V  STIER     8/22/2023  \n",
       "IE 219154364201             V  STIER     8/23/2023  \n",
       "...                       ...     ...          ...  \n",
       "IE 224540571812             V  STIER     8/22/2023  \n",
       "IE 219404731629             V  STIER     8/22/2023  \n",
       "IE 213733463464             V  STIER     8/22/2023  \n",
       "IE 213623280443             V  STIER     8/22/2023  \n",
       "IE 217393193773             V  STIER     8/22/2023  \n",
       "\n",
       "[546 rows x 19 columns]"
      ]
     },
     "execution_count": 136,
     "metadata": {},
     "output_type": "execute_result"
    }
   ],
   "source": [
    "df_blood_2308249.dropna(axis=1, how='all').rename(\n",
    "    {'cow_id': 'ID nummer'}, axis=1\n",
    ").set_index('ID nummer').join(\n",
    "    df_slh_2308249.dropna(axis=1, how='all').set_index('ID nummer'), how='inner'\n",
    ")"
   ]
  }
 ],
 "metadata": {
  "kernelspec": {
   "display_name": "Python 3 (ipykernel)",
   "language": "python",
   "name": "python3"
  },
  "language_info": {
   "codemirror_mode": {
    "name": "ipython",
    "version": 3
   },
   "file_extension": ".py",
   "mimetype": "text/x-python",
   "name": "python",
   "nbconvert_exporter": "python",
   "pygments_lexer": "ipython3",
   "version": "3.12.3"
  }
 },
 "nbformat": 4,
 "nbformat_minor": 5
}
