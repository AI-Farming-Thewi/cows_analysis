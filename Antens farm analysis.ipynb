{
 "cells": [
  {
   "cell_type": "code",
   "execution_count": 1,
   "id": "191271c4-d853-4541-9d03-f33c81811cf9",
   "metadata": {},
   "outputs": [],
   "source": [
    "import pandas as pd"
   ]
  },
  {
   "cell_type": "markdown",
   "id": "f0eaec75-0fb2-4748-bf30-52db7d4285d8",
   "metadata": {},
   "source": [
    "# Antens farm"
   ]
  },
  {
   "cell_type": "code",
   "execution_count": 18,
   "id": "dd4959ef-1345-4e26-95ca-ae52cf8e48f8",
   "metadata": {},
   "outputs": [],
   "source": [
    "ANTENS_FILE_NAME = 'Antens farm structured data.xlsx'"
   ]
  },
  {
   "cell_type": "code",
   "execution_count": 2,
   "id": "5aec4236-ec99-4244-8f03-f07e39cf1c5b",
   "metadata": {},
   "outputs": [],
   "source": [
    "def load_group_data(file, name_blood, name_slh):\n",
    "    df_blood = pd.read_excel(file, sheet_name=name_blood)\n",
    "    df_slh = pd.read_excel(file, sheet_name=name_slh)\n",
    "    df_blood['cow_id'] = df_blood['Land'] + ' ' + df_blood['Levensnr'].astype(str)\n",
    "    return df_blood, df_slh"
   ]
  },
  {
   "cell_type": "code",
   "execution_count": 3,
   "id": "33e959ac-d995-4e19-95fe-b1d2fa37d24a",
   "metadata": {},
   "outputs": [],
   "source": [
    "def get_same_cows_ids(df_blood, df_slh):\n",
    "    cow_ids_blood = set(df_blood['cow_id'])\n",
    "    cow_ids_slh = set(df_slh['ID nummer'])\n",
    "    return  cow_ids_blood.intersection(cow_ids_slh)"
   ]
  },
  {
   "cell_type": "markdown",
   "id": "4433cae0-12c4-4769-9a28-90aefa5860ea",
   "metadata": {},
   "source": [
    "## Group 2348201"
   ]
  },
  {
   "cell_type": "code",
   "execution_count": 71,
   "id": "c644530a-89a2-4d29-9fc7-a576134ac29a",
   "metadata": {},
   "outputs": [],
   "source": [
    "df_blood_2348201, df_slh_2348201 = load_group_data(\n",
    "    ANTENS_FILE_NAME,\n",
    "    name_blood='Group 2348201 - blood samples', \n",
    "    name_slh='Group 2348201 Slaughterhouse'\n",
    ")"
   ]
  },
  {
   "cell_type": "code",
   "execution_count": 72,
   "id": "4adb8abd-c7df-4cd1-9a4b-9d7504802867",
   "metadata": {},
   "outputs": [],
   "source": [
    "same_cows_2348201 = get_same_cows_ids(df_blood, df_slh)"
   ]
  },
  {
   "cell_type": "code",
   "execution_count": 73,
   "id": "765fb74f-415e-46d8-a91b-5de8298e5530",
   "metadata": {},
   "outputs": [
    {
     "data": {
      "text/plain": [
       "549"
      ]
     },
     "execution_count": 73,
     "metadata": {},
     "output_type": "execute_result"
    }
   ],
   "source": [
    "len(same_cows_2348201)"
   ]
  },
  {
   "cell_type": "code",
   "execution_count": 114,
   "id": "5ddb2057-8ceb-4876-a411-9fdcd38bd4ab",
   "metadata": {},
   "outputs": [
    {
     "data": {
      "text/plain": [
       "(1428, 28)"
      ]
     },
     "execution_count": 114,
     "metadata": {},
     "output_type": "execute_result"
    }
   ],
   "source": [
    "df_slh_2348201.shape"
   ]
  },
  {
   "cell_type": "markdown",
   "id": "54560847-be5f-452a-a3c7-e7bab4d79bd5",
   "metadata": {},
   "source": [
    "**There are 549 same cows in both datasets**"
   ]
  },
  {
   "cell_type": "markdown",
   "id": "240734f2-09a6-4932-9a30-041973092c39",
   "metadata": {},
   "source": [
    "## Group 2242208"
   ]
  },
  {
   "cell_type": "code",
   "execution_count": 8,
   "id": "a478ab4c-5ae1-4be8-a2f6-2f8e58df9cad",
   "metadata": {},
   "outputs": [],
   "source": [
    "df_blood_2242208, df_slh_2242208 = load_group_data(\n",
    "    ANTENS_FILE_NAME,\n",
    "    name_blood='Group 2242208 - blood samples',\n",
    "    name_slh='Group 2242208 Slaughterhouse'\n",
    ")"
   ]
  },
  {
   "cell_type": "code",
   "execution_count": 9,
   "id": "e3709a7e-c45d-4e60-8f30-bd9ac74ef3d1",
   "metadata": {},
   "outputs": [],
   "source": [
    "same_cows_2242208 = get_same_cows_ids(df_blood_2242208, df_slh_2242208)"
   ]
  },
  {
   "cell_type": "code",
   "execution_count": 10,
   "id": "db283e6e-1832-4980-9552-8a8111cc69e2",
   "metadata": {},
   "outputs": [
    {
     "data": {
      "text/plain": [
       "491"
      ]
     },
     "execution_count": 10,
     "metadata": {},
     "output_type": "execute_result"
    }
   ],
   "source": [
    "len(same_cows_2242208)"
   ]
  },
  {
   "cell_type": "markdown",
   "id": "3bb43ad8-d4d1-408f-8d53-ffd41cd70f77",
   "metadata": {},
   "source": [
    "**There are 491 same cows in both datasets**"
   ]
  },
  {
   "cell_type": "markdown",
   "id": "3910bbb5-9f7f-4091-adb8-ced808a8c448",
   "metadata": {},
   "source": [
    "## Group 2211207 "
   ]
  },
  {
   "cell_type": "code",
   "execution_count": 11,
   "id": "783ef70d-af5f-4922-bc72-6e03fdac1939",
   "metadata": {},
   "outputs": [],
   "source": [
    "df_blood_2211207, df_slh_2211207 = load_group_data(\n",
    "    ANTENS_FILE_NAME,\n",
    "    name_blood='Group 2211207 - blood samples',\n",
    "    name_slh='Group 2211207 Slaughterhouse',\n",
    ")"
   ]
  },
  {
   "cell_type": "code",
   "execution_count": 12,
   "id": "3b727110-f6bb-4331-bbf4-f290978ec629",
   "metadata": {},
   "outputs": [],
   "source": [
    "same_cows_2211207 = get_same_cows_ids(df_blood_2211207, df_slh_2211207)"
   ]
  },
  {
   "cell_type": "code",
   "execution_count": 13,
   "id": "3099599c-572b-4bbd-a829-9aad409068ae",
   "metadata": {},
   "outputs": [
    {
     "data": {
      "text/plain": [
       "91"
      ]
     },
     "execution_count": 13,
     "metadata": {},
     "output_type": "execute_result"
    }
   ],
   "source": [
    "len(same_cows_2211207)"
   ]
  },
  {
   "cell_type": "markdown",
   "id": "4c3607ec-5069-4da1-8fba-c85ab5ee4d4e",
   "metadata": {},
   "source": [
    "**There are 91 same cows in both datasets**"
   ]
  },
  {
   "cell_type": "markdown",
   "id": "5f7f8f29-1e52-4b84-b92e-5b5184751205",
   "metadata": {},
   "source": [
    "## Group 2133206"
   ]
  },
  {
   "cell_type": "code",
   "execution_count": 14,
   "id": "e768925a-dc37-4474-85ef-d9e68a5e7454",
   "metadata": {},
   "outputs": [],
   "source": [
    "df_blood_2133206, df_slh_2133206 = load_group_data(\n",
    "    ANTENS_FILE_NAME,\n",
    "    name_blood='Group 2133206 - blood samples',\n",
    "    name_slh='Group 2133206 Slaughterhouse',\n",
    ")"
   ]
  },
  {
   "cell_type": "code",
   "execution_count": 15,
   "id": "4e8f89eb-d9bc-4631-ac49-3c697fed5867",
   "metadata": {},
   "outputs": [],
   "source": [
    "same_cows_2133206 = get_same_cows_ids(df_blood_2133206, df_slh_2133206) "
   ]
  },
  {
   "cell_type": "code",
   "execution_count": 16,
   "id": "3639e1fa-a3df-4594-b525-7931ea341c81",
   "metadata": {},
   "outputs": [
    {
     "data": {
      "text/plain": [
       "511"
      ]
     },
     "execution_count": 16,
     "metadata": {},
     "output_type": "execute_result"
    }
   ],
   "source": [
    "len(same_cows_2133206)"
   ]
  },
  {
   "cell_type": "markdown",
   "id": "4cc8c0e2-30a4-4778-ad5b-ac071005964a",
   "metadata": {},
   "source": [
    "**There are 511 same cows in both datasets**"
   ]
  },
  {
   "cell_type": "code",
   "execution_count": 70,
   "id": "07b15f7b-fe63-44a1-b358-140e3a4eefed",
   "metadata": {},
   "outputs": [
    {
     "data": {
      "text/html": [
       "<div>\n",
       "<style scoped>\n",
       "    .dataframe tbody tr th:only-of-type {\n",
       "        vertical-align: middle;\n",
       "    }\n",
       "\n",
       "    .dataframe tbody tr th {\n",
       "        vertical-align: top;\n",
       "    }\n",
       "\n",
       "    .dataframe thead th {\n",
       "        text-align: right;\n",
       "    }\n",
       "</style>\n",
       "<table border=\"1\" class=\"dataframe\">\n",
       "  <thead>\n",
       "    <tr style=\"text-align: right;\">\n",
       "      <th></th>\n",
       "      <th>Land</th>\n",
       "      <th>Levensnr</th>\n",
       "      <th>HB1</th>\n",
       "      <th>HB2</th>\n",
       "      <th>HB3</th>\n",
       "      <th>HB4</th>\n",
       "      <th>S2</th>\n",
       "      <th>S3</th>\n",
       "      <th>S4</th>\n",
       "      <th>cow_id</th>\n",
       "    </tr>\n",
       "  </thead>\n",
       "  <tbody>\n",
       "    <tr>\n",
       "      <th>0</th>\n",
       "      <td>DE</td>\n",
       "      <td>542418100</td>\n",
       "      <td>6.0</td>\n",
       "      <td>6.4</td>\n",
       "      <td>NaN</td>\n",
       "      <td>NaN</td>\n",
       "      <td>0.0</td>\n",
       "      <td>NaN</td>\n",
       "      <td>NaN</td>\n",
       "      <td>DE 542418100</td>\n",
       "    </tr>\n",
       "    <tr>\n",
       "      <th>1</th>\n",
       "      <td>DK</td>\n",
       "      <td>4962404886</td>\n",
       "      <td>6.2</td>\n",
       "      <td>5.4</td>\n",
       "      <td>NaN</td>\n",
       "      <td>NaN</td>\n",
       "      <td>0.0</td>\n",
       "      <td>NaN</td>\n",
       "      <td>NaN</td>\n",
       "      <td>DK 4962404886</td>\n",
       "    </tr>\n",
       "    <tr>\n",
       "      <th>2</th>\n",
       "      <td>DE</td>\n",
       "      <td>125400062</td>\n",
       "      <td>6.7</td>\n",
       "      <td>5.1</td>\n",
       "      <td>NaN</td>\n",
       "      <td>NaN</td>\n",
       "      <td>0.0</td>\n",
       "      <td>NaN</td>\n",
       "      <td>NaN</td>\n",
       "      <td>DE 125400062</td>\n",
       "    </tr>\n",
       "    <tr>\n",
       "      <th>3</th>\n",
       "      <td>DE</td>\n",
       "      <td>365229318</td>\n",
       "      <td>5.6</td>\n",
       "      <td>7.0</td>\n",
       "      <td>NaN</td>\n",
       "      <td>NaN</td>\n",
       "      <td>0.0</td>\n",
       "      <td>NaN</td>\n",
       "      <td>NaN</td>\n",
       "      <td>DE 365229318</td>\n",
       "    </tr>\n",
       "    <tr>\n",
       "      <th>4</th>\n",
       "      <td>DE</td>\n",
       "      <td>1407018377</td>\n",
       "      <td>5.5</td>\n",
       "      <td>6.2</td>\n",
       "      <td>NaN</td>\n",
       "      <td>NaN</td>\n",
       "      <td>0.0</td>\n",
       "      <td>NaN</td>\n",
       "      <td>NaN</td>\n",
       "      <td>DE 1407018377</td>\n",
       "    </tr>\n",
       "    <tr>\n",
       "      <th>...</th>\n",
       "      <td>...</td>\n",
       "      <td>...</td>\n",
       "      <td>...</td>\n",
       "      <td>...</td>\n",
       "      <td>...</td>\n",
       "      <td>...</td>\n",
       "      <td>...</td>\n",
       "      <td>...</td>\n",
       "      <td>...</td>\n",
       "      <td>...</td>\n",
       "    </tr>\n",
       "    <tr>\n",
       "      <th>1445</th>\n",
       "      <td>DE</td>\n",
       "      <td>1082711586</td>\n",
       "      <td>6.4</td>\n",
       "      <td>7.2</td>\n",
       "      <td>NaN</td>\n",
       "      <td>NaN</td>\n",
       "      <td>0.0</td>\n",
       "      <td>NaN</td>\n",
       "      <td>NaN</td>\n",
       "      <td>DE 1082711586</td>\n",
       "    </tr>\n",
       "    <tr>\n",
       "      <th>1446</th>\n",
       "      <td>DE</td>\n",
       "      <td>771373360</td>\n",
       "      <td>5.2</td>\n",
       "      <td>6.0</td>\n",
       "      <td>NaN</td>\n",
       "      <td>NaN</td>\n",
       "      <td>0.0</td>\n",
       "      <td>NaN</td>\n",
       "      <td>NaN</td>\n",
       "      <td>DE 771373360</td>\n",
       "    </tr>\n",
       "    <tr>\n",
       "      <th>1447</th>\n",
       "      <td>DE</td>\n",
       "      <td>667953239</td>\n",
       "      <td>5.0</td>\n",
       "      <td>5.4</td>\n",
       "      <td>NaN</td>\n",
       "      <td>NaN</td>\n",
       "      <td>0.0</td>\n",
       "      <td>NaN</td>\n",
       "      <td>NaN</td>\n",
       "      <td>DE 667953239</td>\n",
       "    </tr>\n",
       "    <tr>\n",
       "      <th>1448</th>\n",
       "      <td>DE</td>\n",
       "      <td>1082698355</td>\n",
       "      <td>5.8</td>\n",
       "      <td>6.7</td>\n",
       "      <td>NaN</td>\n",
       "      <td>NaN</td>\n",
       "      <td>0.0</td>\n",
       "      <td>NaN</td>\n",
       "      <td>NaN</td>\n",
       "      <td>DE 1082698355</td>\n",
       "    </tr>\n",
       "    <tr>\n",
       "      <th>1449</th>\n",
       "      <td>DE</td>\n",
       "      <td>1082711676</td>\n",
       "      <td>5.2</td>\n",
       "      <td>5.9</td>\n",
       "      <td>NaN</td>\n",
       "      <td>NaN</td>\n",
       "      <td>0.0</td>\n",
       "      <td>NaN</td>\n",
       "      <td>NaN</td>\n",
       "      <td>DE 1082711676</td>\n",
       "    </tr>\n",
       "  </tbody>\n",
       "</table>\n",
       "<p>1450 rows × 10 columns</p>\n",
       "</div>"
      ],
      "text/plain": [
       "     Land    Levensnr  HB1  HB2  HB3  HB4   S2  S3  S4         cow_id\n",
       "0      DE   542418100  6.0  6.4  NaN  NaN  0.0 NaN NaN   DE 542418100\n",
       "1      DK  4962404886  6.2  5.4  NaN  NaN  0.0 NaN NaN  DK 4962404886\n",
       "2      DE   125400062  6.7  5.1  NaN  NaN  0.0 NaN NaN   DE 125400062\n",
       "3      DE   365229318  5.6  7.0  NaN  NaN  0.0 NaN NaN   DE 365229318\n",
       "4      DE  1407018377  5.5  6.2  NaN  NaN  0.0 NaN NaN  DE 1407018377\n",
       "...   ...         ...  ...  ...  ...  ...  ...  ..  ..            ...\n",
       "1445   DE  1082711586  6.4  7.2  NaN  NaN  0.0 NaN NaN  DE 1082711586\n",
       "1446   DE   771373360  5.2  6.0  NaN  NaN  0.0 NaN NaN   DE 771373360\n",
       "1447   DE   667953239  5.0  5.4  NaN  NaN  0.0 NaN NaN   DE 667953239\n",
       "1448   DE  1082698355  5.8  6.7  NaN  NaN  0.0 NaN NaN  DE 1082698355\n",
       "1449   DE  1082711676  5.2  5.9  NaN  NaN  0.0 NaN NaN  DE 1082711676\n",
       "\n",
       "[1450 rows x 10 columns]"
      ]
     },
     "execution_count": 70,
     "metadata": {},
     "output_type": "execute_result"
    }
   ],
   "source": [
    "df_blood.dropna(how='all', axis=1)"
   ]
  },
  {
   "cell_type": "markdown",
   "id": "9f5190e6-e648-45fb-8292-2ac3cb1be08c",
   "metadata": {},
   "source": [
    "## Concatenate groups"
   ]
  },
  {
   "cell_type": "code",
   "execution_count": 74,
   "id": "b8c2dc19-852e-4156-b87c-1d35ab451dea",
   "metadata": {},
   "outputs": [],
   "source": [
    "df_blood_2133206['group'] = 2133206\n",
    "df_blood_2211207['group'] = 2211207\n",
    "df_blood_2242208['group'] = 2242208\n",
    "df_blood_2348201['group'] = 2348201"
   ]
  },
  {
   "cell_type": "code",
   "execution_count": 99,
   "id": "1450c0f2-b41d-4250-abe2-50b11ce42863",
   "metadata": {},
   "outputs": [],
   "source": [
    "antens_cows = pd.concat(\n",
    "    [df_blood_2133206, df_blood_2211207, df_blood_2242208, df_blood_2348201],\n",
    "    axis=0, ignore_index=True\n",
    ").dropna(axis=1, how='all').fillna(-1)"
   ]
  },
  {
   "cell_type": "markdown",
   "id": "9acf8b04-dd49-48aa-a2b8-17cdcd95c354",
   "metadata": {},
   "source": [
    "## Treatments data"
   ]
  },
  {
   "cell_type": "code",
   "execution_count": 49,
   "id": "3d19429f-8e3a-4e27-8e22-4290028aee1a",
   "metadata": {},
   "outputs": [
    {
     "name": "stdout",
     "output_type": "stream",
     "text": [
      "(10422, 10)\n"
     ]
    },
    {
     "data": {
      "text/html": [
       "<div>\n",
       "<style scoped>\n",
       "    .dataframe tbody tr th:only-of-type {\n",
       "        vertical-align: middle;\n",
       "    }\n",
       "\n",
       "    .dataframe tbody tr th {\n",
       "        vertical-align: top;\n",
       "    }\n",
       "\n",
       "    .dataframe thead th {\n",
       "        text-align: right;\n",
       "    }\n",
       "</style>\n",
       "<table border=\"1\" class=\"dataframe\">\n",
       "  <thead>\n",
       "    <tr style=\"text-align: right;\">\n",
       "      <th></th>\n",
       "      <th>0</th>\n",
       "      <th>1</th>\n",
       "      <th>2</th>\n",
       "      <th>3</th>\n",
       "      <th>4</th>\n",
       "      <th>5</th>\n",
       "      <th>6</th>\n",
       "      <th>7</th>\n",
       "      <th>8</th>\n",
       "      <th>9</th>\n",
       "    </tr>\n",
       "  </thead>\n",
       "  <tbody>\n",
       "    <tr>\n",
       "      <th>0</th>\n",
       "      <td>2021-08-18 00:00:00</td>\n",
       "      <td>dexa-ject</td>\n",
       "      <td>3505</td>\n",
       "      <td>DE 0124103505</td>\n",
       "      <td>NaN</td>\n",
       "      <td>2.0</td>\n",
       "      <td>ml(cc)</td>\n",
       "      <td>15.0</td>\n",
       "      <td>dagen</td>\n",
       "      <td>2021-09-02 00:00:00</td>\n",
       "    </tr>\n",
       "    <tr>\n",
       "      <th>1</th>\n",
       "      <td>NaN</td>\n",
       "      <td>NaN</td>\n",
       "      <td>NL112615</td>\n",
       "      <td>NaN</td>\n",
       "      <td>(1x)</td>\n",
       "      <td>NaN</td>\n",
       "      <td>NaN</td>\n",
       "      <td>NaN</td>\n",
       "      <td>NaN</td>\n",
       "      <td>NaN</td>\n",
       "    </tr>\n",
       "    <tr>\n",
       "      <th>2</th>\n",
       "      <td>2021-08-18 00:00:00</td>\n",
       "      <td>depoceline</td>\n",
       "      <td>3505</td>\n",
       "      <td>DE 0124103505</td>\n",
       "      <td>NaN</td>\n",
       "      <td>6.0</td>\n",
       "      <td>ml(cc)</td>\n",
       "      <td>15.0</td>\n",
       "      <td>dagen</td>\n",
       "      <td>2021-09-04 00:00:00</td>\n",
       "    </tr>\n",
       "    <tr>\n",
       "      <th>3</th>\n",
       "      <td>NaN</td>\n",
       "      <td>NaN</td>\n",
       "      <td>NL4259</td>\n",
       "      <td>NaN</td>\n",
       "      <td>(3 x 24uur)</td>\n",
       "      <td>NaN</td>\n",
       "      <td>NaN</td>\n",
       "      <td>NaN</td>\n",
       "      <td>NaN</td>\n",
       "      <td>NaN</td>\n",
       "    </tr>\n",
       "  </tbody>\n",
       "</table>\n",
       "</div>"
      ],
      "text/plain": [
       "                     0           1         2              3            4    5  \\\n",
       "0  2021-08-18 00:00:00   dexa-ject      3505  DE 0124103505          NaN  2.0   \n",
       "1                  NaN         NaN  NL112615            NaN         (1x)  NaN   \n",
       "2  2021-08-18 00:00:00  depoceline      3505  DE 0124103505          NaN  6.0   \n",
       "3                  NaN         NaN    NL4259            NaN  (3 x 24uur)  NaN   \n",
       "\n",
       "        6     7      8                    9  \n",
       "0  ml(cc)  15.0  dagen  2021-09-02 00:00:00  \n",
       "1     NaN   NaN    NaN                  NaN  \n",
       "2  ml(cc)  15.0  dagen  2021-09-04 00:00:00  \n",
       "3     NaN   NaN    NaN                  NaN  "
      ]
     },
     "execution_count": 49,
     "metadata": {},
     "output_type": "execute_result"
    }
   ],
   "source": [
    "treatments_df = pd.read_excel(ANTENS_FILE_NAME, sheet_name='Treatments', header=None)\n",
    "print(treatments_df.shape)\n",
    "treatments_df.head(4)"
   ]
  },
  {
   "cell_type": "code",
   "execution_count": 50,
   "id": "55184914-a9ae-4ea6-b813-b8acd863654e",
   "metadata": {},
   "outputs": [],
   "source": [
    "treatments_cleaned = treatments_df.iloc[::2, :]\n",
    "treatments_cleaned.loc[:, 0] = pd.to_datetime(treatments_cleaned[0])"
   ]
  },
  {
   "cell_type": "code",
   "execution_count": 51,
   "id": "83a7e4dd-1c7c-48b4-b413-628cce8150a7",
   "metadata": {},
   "outputs": [],
   "source": [
    "columns_naming = {\n",
    "    0: 'applied_date',\n",
    "    1: 'applied_medicine',\n",
    "    3: 'cow_id',\n",
    "}\n",
    "treatments_cleaned = treatments_cleaned.rename(columns=columns_naming)"
   ]
  },
  {
   "cell_type": "code",
   "execution_count": 52,
   "id": "ebba84cc-0afb-4a43-91e9-25c8c6199aff",
   "metadata": {},
   "outputs": [],
   "source": [
    "treatments_cleaned = treatments_cleaned.drop(\n",
    "    columns=[col for col in treatments_cleaned.columns if isinstance(col, int)]\n",
    ")"
   ]
  },
  {
   "cell_type": "code",
   "execution_count": 53,
   "id": "cbf9293b-3448-494d-ae01-ade2b1587448",
   "metadata": {},
   "outputs": [
    {
     "data": {
      "text/plain": [
       "applied_medicine\n",
       "Resflor                3241\n",
       "dexa-ject               607\n",
       "Genta-ject 10%          372\n",
       "Amoxicilline            254\n",
       "depoceline              197\n",
       "trim-sul                168\n",
       "2005-11-01 00:00:00     135\n",
       "Buscopan Comp            68\n",
       "micotil                  55\n",
       "Draxin                   36\n",
       "finadyne                 33\n",
       "Vetalgin                 26\n",
       "Catosal                  13\n",
       "Vecoxan                   2\n",
       "calcitad                  2\n",
       "TMPSMZ                    1\n",
       "Albipen LA                1\n",
       "Name: count, dtype: int64"
      ]
     },
     "execution_count": 53,
     "metadata": {},
     "output_type": "execute_result"
    }
   ],
   "source": [
    "treatments_cleaned['applied_medicine'].value_counts()"
   ]
  },
  {
   "cell_type": "markdown",
   "id": "07944250-ef33-497a-8681-84096b771318",
   "metadata": {},
   "source": [
    "# Analyze sick cows"
   ]
  },
  {
   "cell_type": "code",
   "execution_count": 100,
   "id": "0e1532f4-ffb8-4e5d-b072-0162c39ad362",
   "metadata": {},
   "outputs": [],
   "source": [
    "sick_cows = set(\n",
    "    treatments_cleaned[treatments_cleaned['cow_id'].isin(\n",
    "        same_cows_2133206 | same_cows_2211207 | same_cows_2242208 | same_cows_2348201\n",
    "    )].drop_duplicates(subset='cow_id')['cow_id'].values\n",
    ")"
   ]
  },
  {
   "cell_type": "code",
   "execution_count": 101,
   "id": "7f8e0853-bc34-4695-9e40-fb80fcb4480f",
   "metadata": {},
   "outputs": [
    {
     "data": {
      "text/html": [
       "<div>\n",
       "<style scoped>\n",
       "    .dataframe tbody tr th:only-of-type {\n",
       "        vertical-align: middle;\n",
       "    }\n",
       "\n",
       "    .dataframe tbody tr th {\n",
       "        vertical-align: top;\n",
       "    }\n",
       "\n",
       "    .dataframe thead th {\n",
       "        text-align: right;\n",
       "    }\n",
       "</style>\n",
       "<table border=\"1\" class=\"dataframe\">\n",
       "  <thead>\n",
       "    <tr style=\"text-align: right;\">\n",
       "      <th></th>\n",
       "      <th>Land</th>\n",
       "      <th>Levensnr</th>\n",
       "      <th>HB1</th>\n",
       "      <th>HB2</th>\n",
       "      <th>HB3</th>\n",
       "      <th>HB4</th>\n",
       "      <th>S2</th>\n",
       "      <th>S3</th>\n",
       "      <th>S4</th>\n",
       "      <th>cow_id</th>\n",
       "      <th>group</th>\n",
       "      <th>sick</th>\n",
       "    </tr>\n",
       "  </thead>\n",
       "  <tbody>\n",
       "    <tr>\n",
       "      <th>0</th>\n",
       "      <td>NL</td>\n",
       "      <td>646244275</td>\n",
       "      <td>5.8</td>\n",
       "      <td>5.8</td>\n",
       "      <td>-1.0</td>\n",
       "      <td>-1.0</td>\n",
       "      <td>0.0</td>\n",
       "      <td>-1.0</td>\n",
       "      <td>-1.0</td>\n",
       "      <td>NL 646244275</td>\n",
       "      <td>2133206</td>\n",
       "      <td>0</td>\n",
       "    </tr>\n",
       "  </tbody>\n",
       "</table>\n",
       "</div>"
      ],
      "text/plain": [
       "  Land   Levensnr  HB1  HB2  HB3  HB4   S2   S3   S4        cow_id    group  \\\n",
       "0   NL  646244275  5.8  5.8 -1.0 -1.0  0.0 -1.0 -1.0  NL 646244275  2133206   \n",
       "\n",
       "   sick  \n",
       "0     0  "
      ]
     },
     "execution_count": 101,
     "metadata": {},
     "output_type": "execute_result"
    }
   ],
   "source": [
    "antens_cows['sick'] = antens_cows['cow_id'].apply(lambda cow: 1 if cow in sick_cows else 0)\n",
    "antens_cows.head(1)"
   ]
  },
  {
   "cell_type": "code",
   "execution_count": 102,
   "id": "ac81f6e3-1103-4334-aa3a-6e7d37375d65",
   "metadata": {},
   "outputs": [],
   "source": [
    "# one-hot encoding\n",
    "one_hot_encoded = pd.get_dummies(antens_cows['group'], prefix='group')\n",
    "antens_cows = pd.concat([antens_cows, one_hot_encoded], axis=1)\n",
    "antens_cows.drop('group', axis=1, inplace=True) \n",
    "\n",
    "# one-hot encoding\n",
    "one_hot_encoded = pd.get_dummies(antens_cows['Land'], prefix='land')\n",
    "antens_cows = pd.concat([antens_cows, one_hot_encoded], axis=1)\n",
    "antens_cows.drop('Land', axis=1, inplace=True) "
   ]
  },
  {
   "cell_type": "code",
   "execution_count": 103,
   "id": "44aa67fc-7437-47c2-83d6-9bab85baa98d",
   "metadata": {},
   "outputs": [
    {
     "data": {
      "text/plain": [
       "Index(['Levensnr', 'HB1', 'HB2', 'HB3', 'HB4', 'S2', 'S3', 'S4', 'cow_id',\n",
       "       'sick', 'group_2133206', 'group_2211207', 'group_2242208',\n",
       "       'group_2348201', 'land_BE', 'land_DE', 'land_DK', 'land_IE', 'land_NL'],\n",
       "      dtype='object')"
      ]
     },
     "execution_count": 103,
     "metadata": {},
     "output_type": "execute_result"
    }
   ],
   "source": [
    "antens_cows.columns"
   ]
  },
  {
   "cell_type": "code",
   "execution_count": null,
   "id": "5b73b1f1-d40c-43d1-b5c4-4c7ecf631133",
   "metadata": {},
   "outputs": [],
   "source": []
  },
  {
   "cell_type": "code",
   "execution_count": 104,
   "id": "06a75c27-5ef2-4cc5-8f8f-8db498279423",
   "metadata": {},
   "outputs": [
    {
     "data": {
      "text/html": [
       "<div>\n",
       "<style scoped>\n",
       "    .dataframe tbody tr th:only-of-type {\n",
       "        vertical-align: middle;\n",
       "    }\n",
       "\n",
       "    .dataframe tbody tr th {\n",
       "        vertical-align: top;\n",
       "    }\n",
       "\n",
       "    .dataframe thead th {\n",
       "        text-align: right;\n",
       "    }\n",
       "</style>\n",
       "<table border=\"1\" class=\"dataframe\">\n",
       "  <thead>\n",
       "    <tr style=\"text-align: right;\">\n",
       "      <th></th>\n",
       "      <th>HB1</th>\n",
       "      <th>HB2</th>\n",
       "      <th>HB3</th>\n",
       "      <th>HB4</th>\n",
       "      <th>S2</th>\n",
       "      <th>S3</th>\n",
       "      <th>S4</th>\n",
       "      <th>group_2133206</th>\n",
       "      <th>group_2211207</th>\n",
       "      <th>group_2242208</th>\n",
       "      <th>group_2348201</th>\n",
       "      <th>land_BE</th>\n",
       "      <th>land_DE</th>\n",
       "      <th>land_DK</th>\n",
       "      <th>land_IE</th>\n",
       "      <th>land_NL</th>\n",
       "      <th>sick</th>\n",
       "    </tr>\n",
       "  </thead>\n",
       "  <tbody>\n",
       "    <tr>\n",
       "      <th>0</th>\n",
       "      <td>5.8</td>\n",
       "      <td>5.8</td>\n",
       "      <td>-1.0</td>\n",
       "      <td>-1.0</td>\n",
       "      <td>0.0</td>\n",
       "      <td>-1.0</td>\n",
       "      <td>-1.0</td>\n",
       "      <td>True</td>\n",
       "      <td>False</td>\n",
       "      <td>False</td>\n",
       "      <td>False</td>\n",
       "      <td>False</td>\n",
       "      <td>False</td>\n",
       "      <td>False</td>\n",
       "      <td>False</td>\n",
       "      <td>True</td>\n",
       "      <td>0</td>\n",
       "    </tr>\n",
       "  </tbody>\n",
       "</table>\n",
       "</div>"
      ],
      "text/plain": [
       "   HB1  HB2  HB3  HB4   S2   S3   S4  group_2133206  group_2211207  \\\n",
       "0  5.8  5.8 -1.0 -1.0  0.0 -1.0 -1.0           True          False   \n",
       "\n",
       "   group_2242208  group_2348201  land_BE  land_DE  land_DK  land_IE  land_NL  \\\n",
       "0          False          False    False    False    False    False     True   \n",
       "\n",
       "   sick  \n",
       "0     0  "
      ]
     },
     "execution_count": 104,
     "metadata": {},
     "output_type": "execute_result"
    }
   ],
   "source": [
    "# Put sick feature to the end\n",
    "antens_cows = antens_cows[['HB1', 'HB2', 'HB3', 'HB4', 'S2', 'S3', 'S4',\n",
    "       'group_2133206', 'group_2211207', 'group_2242208',\n",
    "       'group_2348201', 'land_BE', 'land_DE', 'land_DK', 'land_IE', 'land_NL', 'sick']]\n",
    "antens_cows.head(1)"
   ]
  },
  {
   "cell_type": "code",
   "execution_count": 115,
   "id": "675e69da-5b47-4932-99cc-306396383f94",
   "metadata": {},
   "outputs": [],
   "source": [
    "antens_cows.to_csv('antens_cows_features.csv')"
   ]
  },
  {
   "cell_type": "code",
   "execution_count": 106,
   "id": "53683429-6d8e-46f2-906f-c514a0dfd506",
   "metadata": {},
   "outputs": [],
   "source": [
    "import numpy as np\n",
    "%matplotlib inline\n",
    "import matplotlib.pyplot as plt\n",
    "import seaborn as sns"
   ]
  },
  {
   "cell_type": "code",
   "execution_count": 110,
   "id": "731ee791-036b-462d-939a-67042678b27f",
   "metadata": {},
   "outputs": [
    {
     "data": {
      "text/plain": [
       "<Axes: >"
      ]
     },
     "execution_count": 110,
     "metadata": {},
     "output_type": "execute_result"
    }
   ],
   "source": [
    "# Compute the correlation matrix\n",
    "corr = antens_cows.corr()\n",
    "\n",
    "# Generate a mask for the upper triangle\n",
    "mask = np.triu(np.ones_like(corr, dtype=bool))\n",
    "# Set up the matplotlib figure\n",
    "f, ax = plt.subplots(figsize=(11, 9))\n",
    "\n",
    "# Generate a custom diverging colormap\n",
    "cmap = sns.diverging_palette(230, 20, as_cmap=True)\n",
    "\n",
    "# Draw the heatmap with the mask and correct aspect ratio\n",
    "sns.heatmap(corr, mask=mask, cmap=cmap, vmax=.3, center=0,\n",
    "            square=True, linewidths=.5, cbar_kws={\"shrink\": .5}, fmt=\".2f\",\n",
    " annot=True)"
   ]
  },
  {
   "cell_type": "code",
   "execution_count": 111,
   "id": "d507d00d-a73f-41da-baaa-d0ee8986633c",
   "metadata": {},
   "outputs": [
    {
     "data": {
      "image/png": "[encoded data removed]",
      "text/plain": [
       "<Figure size 1100x900 with 2 Axes>"
      ]
     },
     "metadata": {},
     "output_type": "display_data"
    }
   ],
   "source": [
    "plt.show()"
   ]
  },
  {
   "cell_type": "code",
   "execution_count": 118,
   "id": "63d65197-9c69-4223-9530-0e2fca986ddf",
   "metadata": {},
   "outputs": [
    {
     "data": {
      "image/png": "[encoded data removed]",
      "text/plain": [
       "<Figure size 640x480 with 1 Axes>"
      ]
     },
     "metadata": {},
     "output_type": "display_data"
    }
   ],
   "source": [
    "antens_cows['sick'].value_counts().plot(kind='bar')\n",
    "plt.show()"
   ]
  }
 ],
 "metadata": {
  "kernelspec": {
   "display_name": "Python 3 (ipykernel)",
   "language": "python",
   "name": "python3"
  },
  "language_info": {
   "codemirror_mode": {
    "name": "ipython",
    "version": 3
   },
   "file_extension": ".py",
   "mimetype": "text/x-python",
   "name": "python",
   "nbconvert_exporter": "python",
   "pygments_lexer": "ipython3",
   "version": "3.12.3"
  }
 },
 "nbformat": 4,
 "nbformat_minor": 5
}
